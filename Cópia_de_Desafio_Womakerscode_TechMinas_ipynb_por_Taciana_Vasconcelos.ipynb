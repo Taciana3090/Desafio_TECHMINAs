{
  "nbformat": 4,
  "nbformat_minor": 0,
  "metadata": {
    "colab": {
      "provenance": [],
      "collapsed_sections": []
    },
    "kernelspec": {
      "name": "python3",
      "display_name": "Python 3"
    },
    "language_info": {
      "name": "python"
    }
  },
  "cells": [
    {
      "cell_type": "markdown",
      "source": [
        "### Bem vindas ao desafio de python do bootcamp Tech Minas da WoMakersCode!\n",
        "Neste notebook, voce deve escrever o codigo python em resposta à cada uma das perguntas. Esteja atenta ao enunciado do problema!\n"
      ],
      "metadata": {
        "id": "Z55f1u4p4oHu"
      }
    },
    {
      "cell_type": "markdown",
      "source": [
        "### Desafio 1\n",
        "Escreva uma função em python que lê dois números inteiros (a,b) e gere como resultado as seguintes operações:adição, subtração, multiplicação e divisão. Execute a funçao na celula abaixo, deixando visivel exemplos de resultados.\n"
      ],
      "metadata": {
        "id": "oFGdIzuu5W7b"
      }
    },
    {
      "cell_type": "code",
      "source": [
        "##### ESCREVER A FUNÇAO ABAIXO\n",
        "def operacoes(a,b):\n",
        "  a = int(input(\"\\nInsira o primeiro número: \"))\n",
        "  b = int(input(\"Insira o segundo número: \"))\n",
        "  soma = a + b\n",
        "  sub = a - b\n",
        "  mult = a * b\n",
        "  div = a / b \n",
        "\n",
        "  print(\"A soma de\", a, \"+\", b, \"resulta em:\", soma)\n",
        "  print(\"A subtração de\", a, \"-\", b, \"resulta em:\", sub)\n",
        "  print(\"A multiplicação de\", a, \"*\", b, \"resulta em:\", mult)\n",
        "  print(\"A dividão de\", a, \"/\", b, \"resulta em:\", div)\n"
      ],
      "metadata": {
        "id": "LzCl-VH14t4a"
      },
      "execution_count": 1,
      "outputs": []
    },
    {
      "cell_type": "code",
      "execution_count": 2,
      "metadata": {
        "id": "kMNcvrYZ4krA",
        "colab": {
          "base_uri": "https://localhost:8080/"
        },
        "outputId": "d5effae6-64f4-4c24-82c4-f1ec61902799"
      },
      "outputs": [
        {
          "output_type": "stream",
          "name": "stdout",
          "text": [
            "\n",
            "Insira o primeiro número: 5\n",
            "Insira o segundo número: 3\n",
            "A soma de 5 + 3 resulta em: 8\n",
            "A subtração de 5 - 3 resulta em: 2\n",
            "A multiplicação de 5 * 3 resulta em: 15\n",
            "A dividão de 5 / 3 resulta em: 1.6666666666666667\n"
          ]
        }
      ],
      "source": [
        "#### RODAR A FUNÇAO\n",
        "\n",
        "\n",
        "operacoes(\"\",\"\")\n"
      ]
    },
    {
      "cell_type": "markdown",
      "source": [
        "### Desafio 2\n",
        "Escreva uma função em python que leia como input uma idade e retorne a classificaçao da ideade do individuo da seguinte forma em:\n",
        "\n",
        "*  Criança – 0 a 12 anos\n",
        "*  Adolescente – 13 a 17 anos\n",
        "*  Adulto – acima de 18 anos\n",
        "\n",
        "\n",
        "Se a idade for um número negativo, mostrar a mensagem que a \"idade inválida\"\n",
        "\n"
      ],
      "metadata": {
        "id": "m_tFtRo5581u"
      }
    },
    {
      "cell_type": "code",
      "source": [
        "##### ESCREVER A FUNCAO ABAIXO\n",
        "def classifica_idade(idade):\n",
        "  idadeId = int(idade)\n",
        "  if idadeId >= 0 and  idadeId < 13:\n",
        "    return 'você é uma criança.'\n",
        "  elif idadeId >= 13 and idadeId <= 17:\n",
        "    return \"você é um adolescente.\"\n",
        "  elif idadeId >= 18:\n",
        "    return \"você é um adulto.\" \n",
        "  else:\n",
        "    return 'idade inválida'"
      ],
      "metadata": {
        "id": "cL-OpHGv6hyc"
      },
      "execution_count": 3,
      "outputs": []
    },
    {
      "cell_type": "code",
      "source": [
        "#### RODAR A FUNCAO\n",
        "pessoa = input(\"Digite a sua idade: \")\n",
        "idade = classifica_idade(pessoa)\n",
        "print(f'Com essa idade, {idade}')\n"
      ],
      "metadata": {
        "id": "49IE2lI66zNO",
        "colab": {
          "base_uri": "https://localhost:8080/"
        },
        "outputId": "e6a265ff-5fcf-4ca4-b93d-c5bc0e15fded"
      },
      "execution_count": 4,
      "outputs": [
        {
          "output_type": "stream",
          "name": "stdout",
          "text": [
            "Digite a sua idade: 13\n",
            "Com essa idade, você é um adolescente.\n"
          ]
        }
      ]
    },
    {
      "cell_type": "markdown",
      "source": [
        "### Desafio 3\n",
        "Crie uma função em python que receba como input um determinado horário em horas e retorne a conversao deste horário para segundos\n"
      ],
      "metadata": {
        "id": "wIGGNN_v60s4"
      }
    },
    {
      "cell_type": "code",
      "source": [
        "##### ESCREVER A FUNCAO ABAIXO\n",
        "def time_converter(t):\n",
        "  ##### escrever abaixo\n",
        "  t = int(input(\"Horas:\"))\n",
        "  total_em_segundos = t * 3600\n",
        "  print(\"Horas em segundos:\", total_em_segundos)\n"
      ],
      "metadata": {
        "id": "JOF_tcax7ABd"
      },
      "execution_count": 7,
      "outputs": []
    },
    {
      "cell_type": "code",
      "source": [
        "##### RODAR A FUNCAO\n",
        "time_converter(\"\")"
      ],
      "metadata": {
        "id": "AJf1IqiC7Mq_",
        "colab": {
          "base_uri": "https://localhost:8080/"
        },
        "outputId": "e7c94cc2-fdd0-4aa5-f6c1-f8efd47070b8"
      },
      "execution_count": 8,
      "outputs": [
        {
          "output_type": "stream",
          "name": "stdout",
          "text": [
            "Horas:5\n",
            "Horas em segundos: 18000\n"
          ]
        }
      ]
    },
    {
      "cell_type": "markdown",
      "source": [
        "### Desafio 4\n",
        "Crie uma função em python que calcule a média artimética de uma aluna que cursou a disciplina de Programação I. A funcao deve receber como input as notas M1, M2 e M3 e calcular a média. Após a média calculada, a funcao deve anunciar se a aluna foi aprovado, reprovado ou pegou exame de acordo conm a seguinte classificacao:\n",
        "\n",
        "* Se a média estiver entre 0.0 e 4.0, o aluno está reprovado\n",
        "* Se a média estiver entre 4.1 e 6.0, o aluno pegou exame\n",
        "* Se a média for maior do que 6.0, o aluno está aprovado\n",
        "* Se o aluno pegou exame, deve ser lida a nota do exame. Se a nota do exame for maior do que 6.0, está aprovado, senão; está reprovado\n"
      ],
      "metadata": {
        "id": "RCrTUh1E7OWn"
      }
    },
    {
      "cell_type": "code",
      "source": [
        "##### ESCREVER A FUNCAO ABAIXO\n",
        "def calcula_media(M1,M2,M3):\n",
        "  return(M1 + M2 + M3) / 3\n",
        "\n",
        "\n"
      ],
      "metadata": {
        "id": "VzNdyWZE70oc"
      },
      "execution_count": 11,
      "outputs": []
    },
    {
      "cell_type": "code",
      "source": [
        "##### RODAR A FUNCAO\n",
        "while True:\n",
        "  nota1 = float(input('Digite a primeira nota: '))\n",
        "  nota2 = float(input('Digite a segunda nota: '))\n",
        "  nota3 = float(input('Digite a terceira nota: '))\n",
        "  media = calcula_media(nota1, nota2, nota3)\n",
        "  print(\"A média foi:\", media)\n",
        "\n",
        "  if(media > 0 and media <= 4):\n",
        "    print('aluno reprovado')\n",
        "  elif media <= 6.0:\n",
        "    print ('O aluno pegou exame')\n",
        "    exame = float(input(\"Digite a nota do exame: \"))\n",
        "    if exame >= 6:\n",
        "      print(\"O aluno está aprovado!\")\n",
        "    else:\n",
        "      print(\"O aluno está reprovado\")\n",
        "  else:\n",
        "    print('aluno aprovado')\n",
        "  if input('para sair digite (fim) para continuar (enter)') == 'fim':\n",
        "       break # se digitar \"fim\", sai do while True    "
      ],
      "metadata": {
        "id": "cY7vMECS77QY",
        "colab": {
          "base_uri": "https://localhost:8080/"
        },
        "outputId": "87585f2e-db62-4610-d70b-0cf8b2610510"
      },
      "execution_count": 14,
      "outputs": [
        {
          "name": "stdout",
          "output_type": "stream",
          "text": [
            "Digite a primeira nota: 4.0\n",
            "Digite a segunda nota: 4.0\n",
            "Digite a terceira nota: 4.0\n",
            "A média foi: 4.0\n",
            "aluno reprovado\n",
            "para sair digite (fim) para continuar (enter)enter\n",
            "Digite a primeira nota: 4.1\n",
            "Digite a segunda nota: 4.1\n",
            "Digite a terceira nota: 4.1\n",
            "A média foi: 4.1\n",
            "O aluno pegou exame\n",
            "Digite a nota do exame: 5.9\n",
            "O aluno está reprovado\n",
            "para sair digite (fim) para continuar (enter)\n",
            "Digite a primeira nota: 6.0\n",
            "Digite a segunda nota: 6.0\n",
            "Digite a terceira nota: 6.0\n",
            "A média foi: 6.0\n",
            "O aluno pegou exame\n",
            "Digite a nota do exame: 6.0\n",
            "O aluno está aprovado!\n",
            "para sair digite (fim) para continuar (enter)\n",
            "Digite a primeira nota: 6.1\n",
            "Digite a segunda nota: 6.1\n",
            "Digite a terceira nota: 6.1\n",
            "A média foi: 6.099999999999999\n",
            "aluno aprovado\n",
            "para sair digite (fim) para continuar (enter)fim\n"
          ]
        }
      ]
    },
    {
      "cell_type": "markdown",
      "source": [
        "### Desafio 5\n",
        "Dado a seguinte lista: \n",
        "* equipes_bootcamp_dados = [BerthaLutz, GraceHopper, JaquelineGoes, SarahGilbert]\n",
        "\n",
        "1. Crie uma função em python que conte quantas vezes aparece a letra a em cada elemento da lista. Seu resultado deve ser uma lista . exemplo: [4,0,1,2]\n",
        "\n",
        "2. Leia a lista de alunas: ['Maria', 'Ana','Camila','Mariana','Elaine','Patricia','Marina','Erica','Larissa','Luiza', 'Nicole','Bruna']\n",
        "\n",
        "3. Crie uma função que atribua cada uma das alunas em uma das equipes da lista equipes_bootcamp_dados, de modo que cada equipe pode ter 3 alunas no máximo.\n",
        "\n",
        " Para isso ordene em alfabética. O seu resultado deve ser um dicionário python. exemplo {'BerthaLutz': ['Ana', 'Bruna', 'Camila'], 'GraceHopper': ['Elaine','Erika','Luiza'],... }\n"
      ],
      "metadata": {
        "id": "eI9AkpYT788b"
      }
    },
    {
      "cell_type": "code",
      "source": [
        "##### ESCREVER A FUNCAO DA ETAPA 1\n",
        "equipes_bootcamp_dados = [\"BerthaLutz\", \"GraceHopper\", \"JaquelineGoes\", \"SarahGilbert\"]\n",
        "def contador(equipes_bootcamp_dados):\n",
        "  numero_as = []\n",
        "  for nome in equipes_bootcamp_dados:\n",
        "    count = 0\n",
        "    for letra in nome:\n",
        "      if (letra == 'a'):\n",
        "        count += 1\n",
        "    numero_as.append(count)        \n",
        "  return numero_as"
      ],
      "metadata": {
        "id": "Zk6U7KnL8WBd"
      },
      "execution_count": 15,
      "outputs": []
    },
    {
      "cell_type": "code",
      "source": [
        "###### RODAR A ETAPA 1\n",
        "Numero_as = contador(equipes_bootcamp_dados)\n",
        "\n",
        "print(Numero_as)"
      ],
      "metadata": {
        "id": "snTgwxt_8hcj",
        "colab": {
          "base_uri": "https://localhost:8080/"
        },
        "outputId": "5a0e8636-1b62-49e4-c2b5-a73b508367d1"
      },
      "execution_count": 16,
      "outputs": [
        {
          "output_type": "stream",
          "name": "stdout",
          "text": [
            "[1, 1, 1, 2]\n"
          ]
        }
      ]
    },
    {
      "cell_type": "code",
      "source": [
        "##### LER A ETAPA 2\n",
        "lista_alunas = ['Maria', 'Ana','Camila','Mariana','Elaine','Patricia','Marina','Erica','Larissa','Luiza', 'Nicole','Bruna']"
      ],
      "metadata": {
        "id": "xgkMVykO8jB-"
      },
      "execution_count": 17,
      "outputs": []
    },
    {
      "cell_type": "code",
      "source": [
        "##### ESCREVER A FUNCAO DA ETAPA 3\n",
        "def ordenacao(lista_alunas, equipes_bootcamp_dados):\n",
        "  equipes_bootcamp_dados.sort()\n",
        "  equipes = {}\n",
        "  aux = 0\n",
        "  for equipe in lista_alunas:\n",
        "    equipes[equipe] = [equipes_bootcamp_dados[x] for x in range(aux, aux+3)]\n",
        "    aux += 3\n",
        "  return equipes"
      ],
      "metadata": {
        "id": "_ySYFooB8jFF"
      },
      "execution_count": 18,
      "outputs": []
    },
    {
      "cell_type": "code",
      "source": [
        "##### RODAR A FUNCAO DA ETAPA 3\n",
        "equipes = ordenacao(equipes_bootcamp_dados, lista_alunas)\n",
        "\n",
        "print('As equipes são:', equipes)"
      ],
      "metadata": {
        "id": "8qZnUInj9Uvr",
        "colab": {
          "base_uri": "https://localhost:8080/"
        },
        "outputId": "10582194-7360-4967-bd7f-f48cda42fa48"
      },
      "execution_count": 19,
      "outputs": [
        {
          "output_type": "stream",
          "name": "stdout",
          "text": [
            "As equipes são: {'BerthaLutz': ['Ana', 'Bruna', 'Camila'], 'GraceHopper': ['Elaine', 'Erica', 'Larissa'], 'JaquelineGoes': ['Luiza', 'Maria', 'Mariana'], 'SarahGilbert': ['Marina', 'Nicole', 'Patricia']}\n"
          ]
        }
      ]
    },
    {
      "cell_type": "markdown",
      "source": [
        "### Desafio 6\n",
        "Escreva uma função em python que leia uma temperatura em graus Celsius e retorne a conversao dela em graus Fahrenheit. \n",
        "\n",
        "A fórmula de conversão é F = (9 * C + 160) / 5, na qual F é a temperatura em Fahrenheit e C é a temperatura em graus Celsius\n",
        "\n",
        "\n"
      ],
      "metadata": {
        "id": "AXoFPjyx82gG"
      }
    },
    {
      "cell_type": "code",
      "source": [
        "##### ESCREVER A FUNCAO\n",
        "def conversor_temperatura(temperatura):\n",
        "  return (9* c + 160)/ 5\n",
        "\n",
        "c = eval(input(\"Grau Celsius = \"))\n",
        "f = conversor_temperatura(c)\n",
        "print(\"A temperatura em Fahrenheit é: \"+ str(f))"
      ],
      "metadata": {
        "id": "OsCU2Msu9D9o",
        "colab": {
          "base_uri": "https://localhost:8080/"
        },
        "outputId": "f54f84fc-a4de-43ad-e23f-25413618bdc3"
      },
      "execution_count": 20,
      "outputs": [
        {
          "output_type": "stream",
          "name": "stdout",
          "text": [
            "Grau Celsius = 25\n",
            "A temperatura em Fahrenheit é: 77.0\n"
          ]
        }
      ]
    }
  ]
}