{
  "nbformat": 4,
  "nbformat_minor": 0,
  "metadata": {
    "colab": {
      "provenance": [],
      "collapsed_sections": []
    },
    "kernelspec": {
      "name": "python3",
      "display_name": "Python 3"
    },
    "language_info": {
      "name": "python"
    }
  },
  "cells": [
    {
      "cell_type": "markdown",
      "source": [
        "### Bem vindas ao desafio de python do bootcamp Tech Minas da WoMakersCode!\n",
        "Neste notebook, voce deve escrever o codigo python em resposta à cada uma das perguntas. Esteja atenta ao enunciado do problema!\n"
      ],
      "metadata": {
        "id": "Z55f1u4p4oHu"
      }
    },
    {
      "cell_type": "markdown",
      "source": [
        "### Desafio 1\n",
        "Escreva uma função em python que lê dois números inteiros (a,b) e gere como resultado as seguintes operações:adição, subtração, multiplicação e divisão. Execute a funçao na celula abaixo, deixando visivel exemplos de resultados.\n"
      ],
      "metadata": {
        "id": "oFGdIzuu5W7b"
      }
    },
    {
      "cell_type": "code",
      "source": [
        "##### ESCREVER A FUNÇAO ABAIXO\n",
        "def soma(a,b):\n",
        "  return a + b\n",
        "def sub(a,b):\n",
        "  return a - b\n",
        "def mult(a,b):\n",
        "  return a * b \n",
        "def div(a,b):\n",
        "  return a / b "
      ],
      "metadata": {
        "id": "LzCl-VH14t4a"
      },
      "execution_count": 1,
      "outputs": []
    },
    {
      "cell_type": "code",
      "execution_count": 2,
      "metadata": {
        "id": "kMNcvrYZ4krA",
        "colab": {
          "base_uri": "https://localhost:8080/"
        },
        "outputId": "4a54753d-0d2e-47c0-edb8-6e06e18b8450"
      },
      "outputs": [
        {
          "output_type": "stream",
          "name": "stdout",
          "text": [
            "\n",
            "Selecione a operação desejada ou digite S para sair: \n",
            "1 - soma \n",
            "2 - subtração \n",
            "3 - multiplicação \n",
            "4 - divisão \n",
            " \n",
            "1\n",
            "\n",
            "Digite o primeiro número: 5\n",
            "\n",
            "Digite o segundo número: 3\n",
            "\n",
            "\n",
            "5 + 3 = 8\n",
            "\n",
            "\n",
            "\n",
            "Selecione a operação desejada ou digite S para sair: \n",
            "1 - soma \n",
            "2 - subtração \n",
            "3 - multiplicação \n",
            "4 - divisão \n",
            " \n",
            "2\n",
            "\n",
            "Digite o primeiro número: 5\n",
            "\n",
            "Digite o segundo número: 3\n",
            "\n",
            "\n",
            "5 - 3 = 2\n",
            "\n",
            "\n",
            "\n",
            "Selecione a operação desejada ou digite S para sair: \n",
            "1 - soma \n",
            "2 - subtração \n",
            "3 - multiplicação \n",
            "4 - divisão \n",
            " \n",
            "3\n",
            "\n",
            "Digite o primeiro número: 5\n",
            "\n",
            "Digite o segundo número: 3\n",
            "\n",
            "\n",
            "5 * 3 = 15\n",
            "\n",
            "\n",
            "\n",
            "Selecione a operação desejada ou digite S para sair: \n",
            "1 - soma \n",
            "2 - subtração \n",
            "3 - multiplicação \n",
            "4 - divisão \n",
            " \n",
            "4\n",
            "\n",
            "Digite o primeiro número: 5\n",
            "\n",
            "Digite o segundo número: 3\n",
            "\n",
            "\n",
            "5 / 3 = 1.6666666666666667\n",
            "\n",
            "\n",
            "\n",
            "Selecione a operação desejada ou digite S para sair: \n",
            "1 - soma \n",
            "2 - subtração \n",
            "3 - multiplicação \n",
            "4 - divisão \n",
            " \n",
            "S\n",
            "Programa Encerrado\n"
          ]
        }
      ],
      "source": [
        "#### RODAR A FUNÇAO\n",
        "while True:\n",
        "    opcao = input(\"\\nSelecione a operação desejada ou digite S para sair: \\n1 - soma \\n2 - subtração \\n3 - multiplicação \\n4 - divisão \\n \\n\")\n",
        "\n",
        "    if opcao == 's' or opcao == 'S':\n",
        "        print('Programa Encerrado')\n",
        "        break\n",
        "\n",
        "    num1 = int(input(\"\\nDigite o primeiro número: \"))\n",
        "    num2 = int(input(\"\\nDigite o segundo número: \"))\n",
        "\n",
        "    if opcao == '1':\n",
        "        print(\"\\n\")\n",
        "        print(num1, \"+\", num2, \"=\", soma(num1, num2))\n",
        "        print(\"\\n\")\n",
        "\n",
        "    elif opcao == '2':\n",
        "        print(\"\\n\")\n",
        "        print(num1, \"-\", num2, \"=\", sub(num1, num2))\n",
        "        print(\"\\n\")\n",
        "\n",
        "    elif opcao == '3':\n",
        "        print(\"\\n\")\n",
        "        print(num1, \"*\", num2, \"=\", mult(num1, num2))\n",
        "        print(\"\\n\")\n",
        "\n",
        "    elif opcao == '4':\n",
        "        print(\"\\n\")\n",
        "        print(num1, \"/\", num2, \"=\", div(num1, num2))\n",
        "        print(\"\\n\")\n",
        "\n",
        "    else:\n",
        "        print(\"\\nopção inválida\") \n"
      ]
    },
    {
      "cell_type": "markdown",
      "source": [
        "### Desafio 2\n",
        "Escreva uma função em python que leia como input uma idade e retorne a classificaçao da ideade do individuo da seguinte forma em:\n",
        "\n",
        "*  Criança – 0 a 12 anos\n",
        "*  Adolescente – 13 a 17 anos\n",
        "*  Adulto – acima de 18 anos\n",
        "\n",
        "\n",
        "Se a idade for um número negativo, mostrar a mensagem que a \"idade inválida\"\n",
        "\n"
      ],
      "metadata": {
        "id": "m_tFtRo5581u"
      }
    },
    {
      "cell_type": "code",
      "source": [
        "##### ESCREVER A FUNCAO ABAIXO\n",
        "def classifica_idade(idade):\n",
        "  idadeId = int(idade)\n",
        "  if idadeId <= 0:\n",
        "    return \"idade inválida.\"\n",
        "  elif idadeId <= 12:\n",
        "    return 'você é uma criança.'\n",
        "  elif idadeId <= 17:\n",
        "    return \"você é um adolescente.\"\n",
        "  elif idadeId >= 18:\n",
        "    return \"você é um adulto.\" "
      ],
      "metadata": {
        "id": "cL-OpHGv6hyc"
      },
      "execution_count": 3,
      "outputs": []
    },
    {
      "cell_type": "code",
      "source": [
        "#### RODAR A FUNCAO\n",
        "pessoa = input(\"Digite a sua idade: \")\n",
        "idade = classifica_idade(pessoa)\n",
        "print(f'Com essa idade, {idade}')\n"
      ],
      "metadata": {
        "id": "49IE2lI66zNO",
        "colab": {
          "base_uri": "https://localhost:8080/"
        },
        "outputId": "3a2bbaf3-0078-4f05-fad7-87a3d9049696"
      },
      "execution_count": 4,
      "outputs": [
        {
          "output_type": "stream",
          "name": "stdout",
          "text": [
            "Digite a sua idade: 17\n",
            "Com essa idade, você é um adolescente.\n"
          ]
        }
      ]
    },
    {
      "cell_type": "markdown",
      "source": [
        "### Desafio 3\n",
        "Crie uma função em python que receba como input um determinado horário em horas e retorne a conversao deste horário para segundos\n"
      ],
      "metadata": {
        "id": "wIGGNN_v60s4"
      }
    },
    {
      "cell_type": "code",
      "source": [
        "##### ESCREVER A FUNCAO ABAIXO\n",
        "def time_converter(t):\n",
        "  minutos = t * 60\n",
        "  return minutos\n",
        "\n",
        "def time_converter_seg(t):\n",
        "  minutes = time_converter(t)\n",
        "  segundos = minutes * 60\n",
        "  return segundos\n"
      ],
      "metadata": {
        "id": "JOF_tcax7ABd"
      },
      "execution_count": 5,
      "outputs": []
    },
    {
      "cell_type": "code",
      "source": [
        "##### RODAR A FUNCAO"
      ],
      "metadata": {
        "id": "AJf1IqiC7Mq_"
      },
      "execution_count": 6,
      "outputs": []
    },
    {
      "cell_type": "markdown",
      "source": [
        "### Desafio 4\n",
        "Crie uma função em python que calcule a média artimética de uma aluna que cursou a disciplina de Programação I. A funcao deve receber como input as notas M1, M2 e M3 e calcular a média. Após a média calculada, a funcao deve anunciar se a aluna foi aprovado, reprovado ou pegou exame de acordo conm a seguinte classificacao:\n",
        "\n",
        "* Se a média estiver entre 0.0 e 4.0, o aluno está reprovado\n",
        "* Se a média estiver entre 4.1 e 6.0, o aluno pegou exame\n",
        "* Se a média for maior do que 6.0, o aluno está aprovado\n",
        "* Se o aluno pegou exame, deve ser lida a nota do exame. Se a nota do exame for maior do que 6.0, está aprovado, senão; está reprovado\n"
      ],
      "metadata": {
        "id": "RCrTUh1E7OWn"
      }
    },
    {
      "cell_type": "code",
      "source": [
        "##### ESCREVER A FUNCAO ABAIXO\n",
        "def calcula_media(M1,M2,M3):\n",
        "  return(M1 + M2 + M3) / 3\n",
        "\n",
        "\n"
      ],
      "metadata": {
        "id": "VzNdyWZE70oc"
      },
      "execution_count": 7,
      "outputs": []
    },
    {
      "cell_type": "code",
      "source": [
        "##### RODAR A FUNCAO\n",
        "while True:\n",
        "  nota1 = float(input('Digite a primeira nota: '))\n",
        "  nota2 = float(input('Digite a segunda nota: '))\n",
        "  nota3 = float(input('Digite a terceira nota: '))\n",
        "  media = calcula_media(nota1, nota2, nota3)\n",
        "  print(media)\n",
        "\n",
        "  if media < 4.0:\n",
        "    print('aluno reprovado')\n",
        "  elif media <= 6.0:\n",
        "    print ('aluno pegou exame')\n",
        "    \n",
        "  else:\n",
        "    print('aluno aprovado')\n",
        "  if input('para sair digite (fim) para continuar (enter)') == 'fim':\n",
        "       break # se digitar \"fim\", sai do while True    "
      ],
      "metadata": {
        "id": "cY7vMECS77QY",
        "colab": {
          "base_uri": "https://localhost:8080/"
        },
        "outputId": "4101b603-f190-4732-d9af-867b67931afc"
      },
      "execution_count": 8,
      "outputs": [
        {
          "name": "stdout",
          "output_type": "stream",
          "text": [
            "Digite a primeira nota: 7.0\n",
            "Digite a segunda nota: 7.0\n",
            "Digite a terceira nota: 7.0\n",
            "7.0\n",
            "aluno aprovado\n",
            "para sair digite (fim) para continuar (enter)fim\n"
          ]
        }
      ]
    },
    {
      "cell_type": "markdown",
      "source": [
        "### Desafio 5\n",
        "Dado a seguinte lista: \n",
        "* equipes_bootcamp_dados = [BerthaLutz, GraceHopper, JaquelineGoes, SarahGilbert]\n",
        "\n",
        "1. Crie uma função em python que conte quantas vezes aparece a letra a em cada elemento da lista. Seu resultado deve ser uma lista . exemplo: [4,0,1,2]\n",
        "\n",
        "2. Leia a lista de alunas: ['Maria', 'Ana','Camila','Mariana','Elaine','Patricia','Marina','Erica','Larissa','Luiza', 'Nicole','Bruna']\n",
        "\n",
        "3. Crie uma função que atribua cada uma das alunas em uma das equipes da lista equipes_bootcamp_dados, de modo que cada equipe pode ter 3 alunas no máximo.\n",
        "\n",
        " Para isso ordene em alfabética. O seu resultado deve ser um dicionário python. exemplo {'BerthaLutz': ['Ana', 'Bruna', 'Camila'], 'GraceHopper': ['Elaine','Erika','Luiza'],... }\n"
      ],
      "metadata": {
        "id": "eI9AkpYT788b"
      }
    },
    {
      "cell_type": "code",
      "source": [
        "##### ESCREVER A FUNCAO DA ETAPA 1\n",
        "equipes_bootcamp_dados = [\"BerthaLutz\", \"GraceHopper\", \"JaquelineGoes\", \"SarahGilbert\"]\n",
        "def contador(equipes_bootcamp_dados):\n",
        "  numero_as = []\n",
        "  for nome in equipes_bootcamp_dados:\n",
        "    count = 0\n",
        "    for letra in nome:\n",
        "      if (letra == 'a'):\n",
        "        count += 1\n",
        "    numero_as.append(count)        \n",
        "  return numero_as"
      ],
      "metadata": {
        "id": "Zk6U7KnL8WBd"
      },
      "execution_count": 17,
      "outputs": []
    },
    {
      "cell_type": "code",
      "source": [
        "###### RODAR A ETAPA 1\n",
        "Numero_as = contador(equipes_bootcamp_dados)\n",
        "\n",
        "print(Numero_as)"
      ],
      "metadata": {
        "id": "snTgwxt_8hcj",
        "colab": {
          "base_uri": "https://localhost:8080/"
        },
        "outputId": "97fbfd2d-91fa-4408-e455-26d7728849c1"
      },
      "execution_count": 18,
      "outputs": [
        {
          "output_type": "stream",
          "name": "stdout",
          "text": [
            "[1, 1, 1, 2]\n"
          ]
        }
      ]
    },
    {
      "cell_type": "code",
      "source": [
        "##### LER A ETAPA 2\n",
        "lista_alunas = ['Maria', 'Ana','Camila','Mariana','Elaine','Patricia','Marina','Erica','Larissa','Luiza', 'Nicole','Bruna']"
      ],
      "metadata": {
        "id": "xgkMVykO8jB-"
      },
      "execution_count": 19,
      "outputs": []
    },
    {
      "cell_type": "code",
      "source": [
        "##### ESCREVER A FUNCAO DA ETAPA 3\n",
        "def ordenacao(lista_alunas, equipes_bootcamp_dados):\n",
        "  equipes_bootcamp_dados.sort()\n",
        "  equipes = {}\n",
        "  aux = 0\n",
        "  for equipe in lista_alunas:\n",
        "    equipes[equipe] = [equipes_bootcamp_dados[x] for x in range(aux, aux+3)]\n",
        "    aux += 3\n",
        "  return equipes"
      ],
      "metadata": {
        "id": "_ySYFooB8jFF"
      },
      "execution_count": 20,
      "outputs": []
    },
    {
      "cell_type": "code",
      "source": [
        "##### RODAR A FUNCAO DA ETAPA 3\n",
        "equipes = ordenacao(equipes_bootcamp_dados, lista_alunas)\n",
        "\n",
        "print('As equipes são:', equipes)"
      ],
      "metadata": {
        "id": "8qZnUInj9Uvr",
        "colab": {
          "base_uri": "https://localhost:8080/"
        },
        "outputId": "887022bb-792b-48ef-f15f-20b78ad3ea86"
      },
      "execution_count": 21,
      "outputs": [
        {
          "output_type": "stream",
          "name": "stdout",
          "text": [
            "As equipes são: {'BerthaLutz': ['Ana', 'Bruna', 'Camila'], 'GraceHopper': ['Elaine', 'Erica', 'Larissa'], 'JaquelineGoes': ['Luiza', 'Maria', 'Mariana'], 'SarahGilbert': ['Marina', 'Nicole', 'Patricia']}\n"
          ]
        }
      ]
    },
    {
      "cell_type": "markdown",
      "source": [
        "### Desafio 6\n",
        "Escreva uma função em python que leia uma temperatura em graus Celsius e retorne a conversao dela em graus Fahrenheit. \n",
        "\n",
        "A fórmula de conversão é F = (9 * C + 160) / 5, na qual F é a temperatura em Fahrenheit e C é a temperatura em graus Celsius\n",
        "\n",
        "\n"
      ],
      "metadata": {
        "id": "AXoFPjyx82gG"
      }
    },
    {
      "cell_type": "code",
      "source": [
        "##### ESCREVER A FUNCAO\n",
        "def conversor_temperatura(temperatura):\n",
        "  return (9* c + 160)/ 5\n",
        "\n",
        "c = 5\n",
        "f = conversor_temperatura(c)\n",
        "print(\"A temperatura em Fahrenheit é: \"+ str(f))"
      ],
      "metadata": {
        "id": "OsCU2Msu9D9o",
        "colab": {
          "base_uri": "https://localhost:8080/"
        },
        "outputId": "948cff3c-14e5-4ad3-f154-6879af0b421c"
      },
      "execution_count": 22,
      "outputs": [
        {
          "output_type": "stream",
          "name": "stdout",
          "text": [
            "A temperatura em Fahrenheit é: 41.0\n"
          ]
        }
      ]
    }
  ]
}